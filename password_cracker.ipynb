{
  "nbformat": 4,
  "nbformat_minor": 0,
  "metadata": {
    "colab": {
      "name": "password-cracker.ipynb",
      "provenance": [],
      "authorship_tag": "ABX9TyPp6JNe36rALXEaxE9Pf4uS",
      "include_colab_link": true
    },
    "kernelspec": {
      "name": "python3",
      "display_name": "Python 3"
    },
    "language_info": {
      "name": "python"
    }
  },
  "cells": [
    {
      "cell_type": "markdown",
      "metadata": {
        "id": "view-in-github",
        "colab_type": "text"
      },
      "source": [
        "<a href=\"https://colab.research.google.com/github/Ditipriya04Ganguly/Basic-Banking-System/blob/main/password_cracker.ipynb\" target=\"_parent\"><img src=\"https://colab.research.google.com/assets/colab-badge.svg\" alt=\"Open In Colab\"/></a>"
      ]
    },
    {
      "cell_type": "code",
      "metadata": {
        "colab": {
          "base_uri": "https://localhost:8080/"
        },
        "id": "eZM3VIQDR6-B",
        "outputId": "1667651b-790a-42d9-b9df-08b364bd1ae2"
      },
      "source": [
        "import hashlib\n",
        "\n",
        "flag = 0\n",
        "counter = 0\n",
        "\n",
        "pass_hash = input(\"Enter md5 hash: \")\n",
        "\n",
        "wordlist = input(\"Enter File Name with extension: \")\n",
        "\n",
        "try:\n",
        "\n",
        "  pass_file = open(wordlist, \"r\")\n",
        "\n",
        "except:\n",
        "  print(\"No file found\")\n",
        "  quit()\n",
        "\n",
        "for word in pass_file:\n",
        "\n",
        "  enc_wrd = word.encode('utf-8')\n",
        "  digest = hashlib.md5(enc_wrd.strip()).hexdigest()\n",
        "\n",
        "  counter+=1\n",
        "  if(digest==pass_hash):\n",
        "    print(\"Password Found\")\n",
        "    print(\"Password is: \",word)\n",
        "    flag=1\n",
        "    break\n",
        "if(flag==0):\n",
        "  print(\"Password not in the list. Please try again after updating it.\")"
      ],
      "execution_count": 9,
      "outputs": [
        {
          "output_type": "stream",
          "name": "stdout",
          "text": [
            "Enter md5 hash: 1f3870be274f6c49b3e31a0c6728957f\n",
            "Enter File Name with extension: paswrd.txt\n",
            "Password Found\n",
            "Password is:  apple\n",
            "\n"
          ]
        }
      ]
    },
    {
      "cell_type": "code",
      "metadata": {
        "colab": {
          "base_uri": "https://localhost:8080/"
        },
        "id": "Q2Kxa8Y6OUYv",
        "outputId": "b9f19f0e-49f0-4bda-b297-4d44f72cbe03"
      },
      "source": [
        "import hashlib\n",
        "\n",
        "c='Y'\n",
        "while(c=='Y'):\n",
        "  word=input(\"Enter word: \")\n",
        "\n",
        "  #enc_word= word.encode(\"utf-8\")\n",
        "  #digest= hashlib.md5(enc_wrd.strip()).hexdigest()\n",
        "  f=open(\"paswrd.txt\",\"a\")\n",
        "  f.write(word)\n",
        "  f.write('\\n')\n",
        "  f.close()\n",
        "  c=input(\"Y/N: \").upper()"
      ],
      "execution_count": 5,
      "outputs": [
        {
          "name": "stdout",
          "output_type": "stream",
          "text": [
            "Enter word: apple\n",
            "Y/N: y\n",
            "Enter word: lunch\n",
            "Y/N: y\n",
            "Enter word: chair\n",
            "Y/N: y\n",
            "Enter word: dance\n",
            "Y/N: y\n",
            "Enter word: food\n",
            "Y/N: n\n"
          ]
        }
      ]
    },
    {
      "cell_type": "code",
      "metadata": {
        "colab": {
          "base_uri": "https://localhost:8080/"
        },
        "id": "6avzGePWQEKF",
        "outputId": "e2579235-c18c-4dce-cbce-4176a9c35084"
      },
      "source": [
        "import hashlib\n",
        "\n",
        "word = input()\n",
        "enc_wrd= word.encode(\"utf-8\")\n",
        "digest = hashlib.md5(enc_wrd.strip()).hexdigest()\n",
        "\n",
        "print(digest)\n"
      ],
      "execution_count": 8,
      "outputs": [
        {
          "output_type": "stream",
          "name": "stdout",
          "text": [
            "apple\n",
            "1f3870be274f6c49b3e31a0c6728957f\n"
          ]
        }
      ]
    }
  ]
}